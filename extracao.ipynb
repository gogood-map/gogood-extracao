{
 "cells": [
  {
   "cell_type": "code",
   "execution_count": 1,
   "metadata": {},
   "outputs": [],
   "source": [
    "from geo import reverter_coordenada_em_endereco"
   ]
  },
  {
   "cell_type": "code",
   "execution_count": 2,
   "metadata": {},
   "outputs": [
    {
     "name": "stdout",
     "output_type": "stream",
     "text": [
      "{'place_id': 40289403, 'licence': 'Data © OpenStreetMap contributors, ODbL 1.0. http://osm.org/copyright', 'osm_type': 'way', 'osm_id': 172843637, 'lat': '-23.580510956230935', 'lon': '-46.3922666329296', 'class': 'highway', 'type': 'residential', 'place_rank': 26, 'importance': 0.10000999999999993, 'addresstype': 'road', 'name': 'Rua Cachoeira das Garças', 'display_name': 'Rua Cachoeira das Garças, Sitío Conceição, Cidade Tiradentes, São Paulo, Região Imediata de São Paulo, Região Metropolitana de São Paulo, Região Geográfica Intermediária de São Paulo, São Paulo, Região Sudeste, 08490-000, Brasil', 'address': {'road': 'Rua Cachoeira das Garças', 'quarter': 'Sitío Conceição', 'suburb': 'Cidade Tiradentes', 'city': 'São Paulo', 'municipality': 'Região Imediata de São Paulo', 'county': 'Região Metropolitana de São Paulo', 'state_district': 'Região Geográfica Intermediária de São Paulo', 'state': 'São Paulo', 'ISO3166-2-lvl4': 'BR-SP', 'region': 'Região Sudeste', 'postcode': '08490-000', 'country': 'Brasil', 'country_code': 'br'}, 'boundingbox': ['-23.5809181', '-23.5781894', '-46.3923535', '-46.3919773']}\n"
     ]
    },
    {
     "data": {
      "text/plain": [
       "{'rua': 'Rua Cachoeira das Garças',\n",
       " 'cidade': 'São Paulo',\n",
       " 'bairro': 'Sitío Conceição'}"
      ]
     },
     "execution_count": 2,
     "metadata": {},
     "output_type": "execute_result"
    }
   ],
   "source": [
    "reverter_coordenada_em_endereco(-23.580507006758100,-46.39228514400921)\n",
    "\n"
   ]
  }
 ],
 "metadata": {
  "kernelspec": {
   "display_name": ".venv",
   "language": "python",
   "name": "python3"
  },
  "language_info": {
   "codemirror_mode": {
    "name": "ipython",
    "version": 3
   },
   "file_extension": ".py",
   "mimetype": "text/x-python",
   "name": "python",
   "nbconvert_exporter": "python",
   "pygments_lexer": "ipython3",
   "version": "3.12.0"
  }
 },
 "nbformat": 4,
 "nbformat_minor": 2
}
